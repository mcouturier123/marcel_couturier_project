{
 "cells": [
  {
   "cell_type": "markdown",
   "metadata": {},
   "source": [
    "# **Problem Statement**\n",
    "\n",
    "[Describe Problem Statement here]\n",
    "    \n",
    "Tracking proposed generating projects in the energy sector in the United States is a constant challenge, as it's constantly evolving and difficult to track down a reliable source.\n",
    "    \n",
    "The Energy Information Administration (or \"EIA\") publishes, through its annual survey Form EIA-860, data  about existing and planned generators. The planned generators dataset in this survey could be used to identify and track the evolution of proposed generating projecs. This information is publicly available on the EIA's website: [Form-860](https://www.eia.gov/electricity/data/eia860\n",
    "\"EIA Form-860\")\n",
    "\n",
    "Isolating this information on a regular basis can be tedious, time consuming, and if done manually, can result in datasets that contain errors (i.e. typos, etc.).\n",
    "    \n",
    "This <span style=\"color:blue\"> Python project </span> will look to address this manual process with code that replaces as many manual steps (or processes) as possible to ensure, timely and accurate results. \n",
    "    \n",
    "## Success Criteria\n",
    "\n",
    "[Describe Success Criteria here]\n",
    "\n",
    "## Significant Risks (*as applicable*)\n",
    "\n",
    "[Describe Significant Risks here]\n",
    "\n",
    "## Limitations\n",
    "\n",
    "[Describe Success Criteria here]\n"
   ]
  },
  {
   "cell_type": "code",
   "execution_count": 6,
   "metadata": {},
   "outputs": [],
   "source": [
    "# Load each dataset you plan to used for your Project into a Panda dataframe in one or more code cells and print it out."
   ]
  },
  {
   "cell_type": "code",
   "execution_count": 7,
   "metadata": {},
   "outputs": [],
   "source": [
    "## importing pandas package\n",
    "# import panda as pd"
   ]
  },
  {
   "cell_type": "code",
   "execution_count": 8,
   "metadata": {},
   "outputs": [],
   "source": [
    "## making data frame from csv file\n",
    "# data = pd.read_csv(\"xxx.csv\", index_col = \"Project Name\")"
   ]
  },
  {
   "cell_type": "code",
   "execution_count": 4,
   "metadata": {},
   "outputs": [],
   "source": [
    "# Note any limitations of your data for your goal and explain what you will do to mitigate them."
   ]
  },
  {
   "cell_type": "code",
   "execution_count": null,
   "metadata": {},
   "outputs": [],
   "source": []
  },
  {
   "cell_type": "code",
   "execution_count": null,
   "metadata": {},
   "outputs": [],
   "source": []
  }
 ],
 "metadata": {
  "kernelspec": {
   "display_name": "Python 3",
   "language": "python",
   "name": "python3"
  },
  "language_info": {
   "codemirror_mode": {
    "name": "ipython",
    "version": 3
   },
   "file_extension": ".py",
   "mimetype": "text/x-python",
   "name": "python",
   "nbconvert_exporter": "python",
   "pygments_lexer": "ipython3",
   "version": "3.7.3"
  }
 },
 "nbformat": 4,
 "nbformat_minor": 4
}
